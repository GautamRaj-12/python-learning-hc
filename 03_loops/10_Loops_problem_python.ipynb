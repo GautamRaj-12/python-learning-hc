{
  "cells": [
    {
      "cell_type": "markdown",
      "metadata": {
        "id": "E3EYu8wAnA1w"
      },
      "source": [
        "## Loops in Python - Solving 10 problems"
      ]
    },
    {
      "cell_type": "markdown",
      "metadata": {
        "id": "K61M1rlCtloa"
      },
      "source": [
        "### 10 Problems\n",
        "\n",
        "<details>\n",
        "<summary>\n",
        "1. Counting Positive Numbers\n",
        "</summary>\n",
        "Problem: Given a list of numbers, count how many are positive.\n",
        "\n",
        "```python\n",
        "numbers = [1, -2, 3, -4, 5, 6, -7, -8, 9, 10]\n",
        "```\n",
        "\n",
        "</details>\n",
        "\n",
        "\n",
        "<details>\n",
        "<summary>\n",
        "2. Sum of Even Numbers\n",
        "</summary>\n",
        "Problem: Calculate the sum of even numbers up to a given number n.\n",
        "\n",
        "</details>\n",
        "\n",
        "\n",
        "<details>\n",
        "<summary>\n",
        "3. Multiplication Table Printer\n",
        "</summary>\n",
        "Problem: Print the multiplication table for a given number up to 10, but skip the fifth iteration.\n",
        "\n",
        "</details>\n",
        "\n",
        "\n",
        "<details>\n",
        "<summary>\n",
        "4. Reverse a String\n",
        "</summary>\n",
        "Problem: Reverse a string using a loop.\n",
        "\n",
        "</details>\n",
        "\n",
        "\n",
        "<details>\n",
        "<summary>\n",
        "5. Find the First Non-Repeated Character\n",
        "</summary>\n",
        "Problem: Given a string, find the first non-repeated character.\n",
        "\n",
        "</details>\n",
        "\n",
        "\n",
        "<details>\n",
        "<summary>\n",
        "6. Factorial Calculator\n",
        "</summary>\n",
        "Problem: Compute the factorial of a number using a while loop.\n",
        "\n",
        "</details>\n",
        "\n",
        "\n",
        "<details>\n",
        "<summary>\n",
        "7. Validate Input\n",
        "</summary>\n",
        "Problem: Keep asking the user for input until they enter a number between 1 and 10.\n",
        "\n",
        "</details>\n",
        "\n",
        "\n",
        "<details>\n",
        "<summary>\n",
        "8. Prime Number Checker\n",
        "</summary>\n",
        "Problem: Check if a number is prime.\n",
        "\n",
        "</details>\n",
        "\n",
        "\n",
        "<details>\n",
        "<summary>\n",
        "9. List Uniqueness Checker\n",
        "</summary>\n",
        "Problem: Check if all elements in a list are unique. If a duplicate is found, exit the loop and print the duplicate.\n",
        "\n",
        "```python\n",
        "items = [\"apple\", \"banana\", \"orange\", \"apple\", \"mango\"]\n",
        "```\n",
        "</details>\n",
        "\n",
        "\n",
        "<details>\n",
        "<summary>\n",
        "10. Exponential Backoff\n",
        "</summary>\n",
        "Problem: Implement an exponential backoff strategy that doubles the wait time between retries, starting from 1 second, but stops after 5 retries.\n",
        "</details>"
      ]
    },
    {
      "cell_type": "markdown",
      "metadata": {
        "id": "vjmT6w7vtbsz"
      },
      "source": [
        "<details>\n",
        "<summary>\n",
        "1. Counting Positive Numbers\n",
        "</summary>\n",
        "Problem: Given a list of numbers, count how many are positive.\n",
        "\n",
        "```python\n",
        "numbers = [1, -2, 3, -4, 5, 6, -7, -8, 9, 10]\n",
        "```\n",
        "\n",
        "</details>"
      ]
    },
    {
      "cell_type": "code",
      "execution_count": null,
      "metadata": {
        "colab": {
          "base_uri": "https://localhost:8080/"
        },
        "id": "ySTcLO8bnDXU",
        "outputId": "88f2182a-8ffe-4cda-b503-2788114895e6"
      },
      "outputs": [
        {
          "name": "stdout",
          "output_type": "stream",
          "text": [
            "6\n"
          ]
        }
      ],
      "source": [
        "numbers = [1, -2, 3, -4, 5, 6, -7, -8, 9, 10]\n",
        "count = 0\n",
        "for i in numbers:\n",
        "  if i>0:\n",
        "    count+=1\n",
        "print(count)"
      ]
    },
    {
      "cell_type": "markdown",
      "metadata": {
        "id": "yG2W-d7vnIwF"
      },
      "source": [
        "<details>\n",
        "<summary>\n",
        "2. Sum of Even Numbers\n",
        "</summary>\n",
        "Problem: Calculate the sum of even numbers up to a given number n.\n",
        "\n",
        "</details>"
      ]
    },
    {
      "cell_type": "code",
      "execution_count": null,
      "metadata": {
        "colab": {
          "base_uri": "https://localhost:8080/"
        },
        "id": "UK14gaF6njGm",
        "outputId": "02022ee0-a679-487c-f124-551762e3bfce"
      },
      "outputs": [
        {
          "name": "stdout",
          "output_type": "stream",
          "text": [
            "Enter the value of n: 8\n",
            "20\n"
          ]
        }
      ],
      "source": [
        "n = int(input(\"Enter the value of n: \"))\n",
        "sum = 0\n",
        "for i in range(1,n+1):\n",
        "  if i%2==0:\n",
        "    sum += i\n",
        "print(sum)"
      ]
    },
    {
      "cell_type": "markdown",
      "metadata": {
        "id": "BMtfx92ZpCtG"
      },
      "source": [
        "<details>\n",
        "<summary>\n",
        "3. Multiplication Table Printer\n",
        "</summary>\n",
        "Problem: Print the multiplication table for a given number up to 10, but skip the fifth iteration.\n",
        "\n",
        "</details>\n"
      ]
    },
    {
      "cell_type": "code",
      "execution_count": null,
      "metadata": {
        "colab": {
          "base_uri": "https://localhost:8080/"
        },
        "id": "prfnGkrKpt21",
        "outputId": "ffa46848-9619-4a62-9e08-73a3d1631b70"
      },
      "outputs": [
        {
          "name": "stdout",
          "output_type": "stream",
          "text": [
            "Enter the number whose table you want to print: 4\n",
            "4\n",
            "8\n",
            "12\n",
            "16\n",
            "24\n",
            "28\n",
            "32\n",
            "36\n",
            "40\n"
          ]
        }
      ],
      "source": [
        "n = int(input(\"Enter the number whose table you want to print: \"))\n",
        "for i in range (1,11):\n",
        "  if i==5:\n",
        "    continue\n",
        "  print(n*i)"
      ]
    },
    {
      "cell_type": "markdown",
      "metadata": {
        "id": "nU0pmi_ypMZu"
      },
      "source": [
        "<details>\n",
        "<summary>\n",
        "4. Reverse a String\n",
        "</summary>\n",
        "Problem: Reverse a string using a loop.\n",
        "\n",
        "</details>"
      ]
    },
    {
      "cell_type": "code",
      "execution_count": null,
      "metadata": {
        "colab": {
          "base_uri": "https://localhost:8080/"
        },
        "id": "Q5TggcyGrEMF",
        "outputId": "a426e5ff-d119-4a45-b79e-b8b9d1a70785"
      },
      "outputs": [
        {
          "name": "stdout",
          "output_type": "stream",
          "text": [
            "detinu retsehcnam\n"
          ]
        }
      ],
      "source": [
        "club = \"manchester united\"\n",
        "reversed = \"\"\n",
        "\n",
        "for char in club:\n",
        "  reversed = char+reversed\n",
        "print(reversed)"
      ]
    },
    {
      "cell_type": "markdown",
      "metadata": {
        "id": "nvgyG4ulpOdh"
      },
      "source": [
        "<details>\n",
        "<summary>\n",
        "5. Find the First Non-Repeated Character\n",
        "</summary>\n",
        "Problem: Given a string, find the first non-repeated character.\n",
        "\n",
        "</details>\n"
      ]
    },
    {
      "cell_type": "code",
      "execution_count": null,
      "metadata": {
        "colab": {
          "base_uri": "https://localhost:8080/"
        },
        "id": "XFSr2sxdtBrN",
        "outputId": "daf59c0b-0eeb-4bbb-fd3d-3ad612d9d009"
      },
      "outputs": [
        {
          "name": "stdout",
          "output_type": "stream",
          "text": [
            "r\n"
          ]
        }
      ],
      "source": [
        "text = \"teeteracdacd\"\n",
        "for char in text:\n",
        "  if text.count(char) == 1:\n",
        "    print(char)\n",
        "    break"
      ]
    },
    {
      "cell_type": "markdown",
      "metadata": {
        "id": "WhRiIDB0pSYs"
      },
      "source": [
        "<details>\n",
        "<summary>\n",
        "6. Factorial Calculator\n",
        "</summary>\n",
        "Problem: Compute the factorial of a number using a while loop.\n",
        "\n",
        "</details>\n"
      ]
    },
    {
      "cell_type": "code",
      "execution_count": null,
      "metadata": {
        "colab": {
          "base_uri": "https://localhost:8080/"
        },
        "id": "BcbYyemat0hh",
        "outputId": "df0ee798-655c-48da-a10e-03d234317312"
      },
      "outputs": [
        {
          "name": "stdout",
          "output_type": "stream",
          "text": [
            "120\n"
          ]
        }
      ],
      "source": [
        "n = 5\n",
        "f = 1\n",
        "while n!=0:\n",
        "  f = f*(n)\n",
        "  n = n-1\n",
        "print(f)"
      ]
    },
    {
      "cell_type": "markdown",
      "metadata": {
        "id": "ZJxDBs6mpUJt"
      },
      "source": [
        "<details>\n",
        "<summary>\n",
        "7. Validate Input\n",
        "</summary>\n",
        "Problem: Keep asking the user for input until they enter a number between 1 and 10.\n",
        "\n",
        "</details>"
      ]
    },
    {
      "cell_type": "code",
      "execution_count": null,
      "metadata": {
        "colab": {
          "base_uri": "https://localhost:8080/"
        },
        "id": "ua4liKt6uiOT",
        "outputId": "82bd3d68-fa6b-4b57-d354-5ffe3f3c1614"
      },
      "outputs": [
        {
          "name": "stdout",
          "output_type": "stream",
          "text": [
            "Enter value between 1-10: 24\n",
            "Invalid Number, Try Again\n",
            "Enter value between 1-10: 9\n",
            "Thanks\n"
          ]
        }
      ],
      "source": [
        "while True:\n",
        "  n = int(input(\"Enter value between 1-10: \"))\n",
        "  if 1<=n<=10:\n",
        "    print(\"Thanks\")\n",
        "    break\n",
        "  else:\n",
        "    print(\"Invalid Number, Try Again\")"
      ]
    },
    {
      "cell_type": "markdown",
      "metadata": {
        "id": "IN3Hc7SGpWM5"
      },
      "source": [
        "<details>\n",
        "<summary>\n",
        "8. Prime Number Checker\n",
        "</summary>\n",
        "Problem: Check if a number is prime.\n",
        "\n",
        "</details>\n"
      ]
    },
    {
      "cell_type": "code",
      "execution_count": null,
      "metadata": {
        "colab": {
          "base_uri": "https://localhost:8080/"
        },
        "id": "xoijshSWv8kc",
        "outputId": "a61d6275-87b9-41f0-ec81-6df1762297a4"
      },
      "outputs": [
        {
          "name": "stdout",
          "output_type": "stream",
          "text": [
            "Enter a number for prime checking: 72\n",
            "Not prime\n"
          ]
        }
      ],
      "source": [
        "n = int(input(\"Enter a number for prime checking: \"))\n",
        "count = 0\n",
        "if n>1:\n",
        "  for i in range(2,n):\n",
        "    if(n%i==0):\n",
        "      count+=1;\n",
        "      break\n",
        "  if(count==0):\n",
        "    print(\"prime\")\n",
        "  else:\n",
        "    print(\"Not prime\")\n",
        "else:\n",
        "  print(\"Neither prime Nor composite\")\n"
      ]
    },
    {
      "cell_type": "code",
      "execution_count": null,
      "metadata": {
        "colab": {
          "base_uri": "https://localhost:8080/"
        },
        "id": "L_dDlmxbxuYS",
        "outputId": "fe3c7f41-a176-43d8-bf44-319cdbada9d2"
      },
      "outputs": [
        {
          "name": "stdout",
          "output_type": "stream",
          "text": [
            "Enter a number for prime checking: 1\n",
            "Neither prime nor composite\n"
          ]
        }
      ],
      "source": [
        "n = int(input(\"Enter a number for prime checking: \"))\n",
        "is_Prime = True\n",
        "if n>1:\n",
        "  for i in range(2,n):\n",
        "    if(n%i==0):\n",
        "      is_Prime = False\n",
        "      break\n",
        "  print(is_Prime)\n",
        "else:\n",
        "  print(\"Neither prime nor composite\")"
      ]
    },
    {
      "cell_type": "markdown",
      "metadata": {
        "id": "2ch8byM-pYic"
      },
      "source": [
        "<details>\n",
        "<summary>\n",
        "9. List Uniqueness Checker\n",
        "</summary>\n",
        "Problem: Check if all elements in a list are unique. If a duplicate is found, exit the loop and print the duplicate.\n",
        "\n",
        "```python\n",
        "items = [\"apple\", \"banana\", \"orange\", \"apple\", \"mango\"]\n",
        "```\n",
        "</details>"
      ]
    },
    {
      "cell_type": "code",
      "execution_count": null,
      "metadata": {
        "colab": {
          "base_uri": "https://localhost:8080/"
        },
        "id": "t6lXUYYn8sLp",
        "outputId": "dfa98a55-07b7-4840-8756-b9e446cee9b7"
      },
      "outputs": [
        {
          "name": "stdout",
          "output_type": "stream",
          "text": [
            "Duplicate:  apple\n"
          ]
        }
      ],
      "source": [
        "items = [\"apple\", \"banana\", \"orange\", \"apple\", \"mango\"]\n",
        "\n",
        "unique_item = set()\n",
        "\n",
        "for item in items:\n",
        "    if item in unique_item:\n",
        "        print(\"Duplicate: \", item)\n",
        "        break\n",
        "    unique_item.add(item)"
      ]
    },
    {
      "cell_type": "markdown",
      "metadata": {
        "id": "8ehaqJQUpY44"
      },
      "source": [
        "<details>\n",
        "<summary>\n",
        "10. Exponential Backoff\n",
        "</summary>\n",
        "Problem: Implement an exponential backoff strategy that doubles the wait time between retries, starting from 1 second, but stops after 5 retries.\n",
        "</details>"
      ]
    },
    {
      "cell_type": "code",
      "execution_count": null,
      "metadata": {
        "colab": {
          "base_uri": "https://localhost:8080/"
        },
        "id": "NanCQMBx8uy6",
        "outputId": "3216718f-a466-43a0-931c-367e07f7f484"
      },
      "outputs": [
        {
          "name": "stdout",
          "output_type": "stream",
          "text": [
            "Attempt 1 - wait time 1\n",
            "Attempt 2 - wait time 2\n",
            "Attempt 3 - wait time 4\n",
            "Attempt 4 - wait time 8\n",
            "Attempt 5 - wait time 16\n"
          ]
        }
      ],
      "source": [
        "import time\n",
        "\n",
        "wait_time = 1\n",
        "max_retries = 5\n",
        "attempts = 0\n",
        "\n",
        "while attempts < max_retries:\n",
        "    print(\"Attempt\", attempts + 1, \"- wait time\", wait_time, )\n",
        "    time.sleep(wait_time)\n",
        "    wait_time *= 2\n",
        "    attempts += 1"
      ]
    }
  ],
  "metadata": {
    "colab": {
      "provenance": []
    },
    "kernelspec": {
      "display_name": "Python 3",
      "name": "python3"
    },
    "language_info": {
      "name": "python",
      "version": "3.10.12"
    }
  },
  "nbformat": 4,
  "nbformat_minor": 0
}
