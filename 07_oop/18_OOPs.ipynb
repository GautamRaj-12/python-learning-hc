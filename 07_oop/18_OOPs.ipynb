{
 "cells": [
  {
   "cell_type": "markdown",
   "metadata": {
    "id": "8a2MtCutw8XX"
   },
   "source": [
    "# OOP"
   ]
  },
  {
   "cell_type": "markdown",
   "metadata": {
    "id": "iMGI6RpWw_2n"
   },
   "source": [
    "# learn about Object Oriented Programming by answering these questions\n",
    "\n",
    "\n",
    "<details>\n",
    "<summary>\n",
    "1. Basic Class and Object\n",
    "</summary>\n",
    "Problem: Create a Car class with attributes like brand and model. Then create an instance of this class.\n",
    "</details>\n",
    "\n",
    "\n",
    "<details>\n",
    "<summary>\n",
    "2. Class Method and Self\n",
    "</summary>\n",
    "Problem: Add a method to the Car class that displays the full name of the car (brand and model).\n",
    "</details>\n",
    "\n",
    "\n",
    "<details>\n",
    "<summary>\n",
    "3. Inheritance\n",
    "</summary>\n",
    "Problem: Create an ElectricCar class that inherits from the Car class and has an additional attribute battery_size.\n",
    "</details>\n",
    "\n",
    "\n",
    "\n",
    "<details>\n",
    "<summary>\n",
    "4. Encapsulation\n",
    "</summary>\n",
    "Problem: Modify the Car class to encapsulate the brand attribute, making it private, and provide a getter method for it.\n",
    "</details>\n",
    "\n",
    "<details>\n",
    "<summary>\n",
    "5. Polymorphism\n",
    "</summary>\n",
    "Problem: Demonstrate polymorphism by defining a method fuel_type in both Car and ElectricCar classes, but with different behaviors.\n",
    "</details>\n",
    "\n",
    "\n",
    "\n",
    "<details>\n",
    "<summary>\n",
    "6. Class Variables\n",
    "</summary>\n",
    "Problem: Add a class variable to Car that keeps track of the number of cars created.\n",
    "</details>\n",
    "\n",
    "\n",
    "\n",
    "\n",
    "<details>\n",
    "<summary>\n",
    "7. Static Method\n",
    "</summary>\n",
    "Problem: Add a static method to the Car class that returns a general description of a car.\n",
    "</details>\n",
    "\n",
    "\n",
    "\n",
    "<details>\n",
    "<summary>\n",
    "8. Property Decorators\n",
    "</summary>\n",
    "Problem: Use a property decorator in the Car class to make the model attribute read-only.\n",
    "</details>\n",
    "\n",
    "\n",
    "\n",
    "<details>\n",
    "<summary>\n",
    "9. Class Inheritance and isinstance() Function\n",
    "</summary>\n",
    "Problem: Demonstrate the use of isinstance() to check if my_tesla is an instance of Car and ElectricCar.\n",
    "</details>\n",
    "\n",
    "\n",
    "\n",
    "<details>\n",
    "<summary>\n",
    "10. Multiple Inheritance\n",
    "</summary>\n",
    "Problem: Create two classes Battery and Engine, and let the ElectricCar class inherit from both, demonstrating multiple inheritance.\n",
    "</details>"
   ]
  },
  {
   "cell_type": "markdown",
   "metadata": {
    "id": "m8HusRY6xDLe"
   },
   "source": [
    "<details>\n",
    "<summary>\n",
    "1. Basic Class and Object\n",
    "</summary>\n",
    "Problem: Create a Car class with attributes like brand and model. Then create an instance of this class.\n",
    "</details>\n"
   ]
  },
  {
   "cell_type": "code",
   "execution_count": null,
   "metadata": {
    "colab": {
     "base_uri": "https://localhost:8080/"
    },
    "id": "FWCq_kKzxD8l",
    "outputId": "b3ee8a4b-51c5-4601-bfff-b9287100b0a9"
   },
   "outputs": [
    {
     "name": "stdout",
     "output_type": "stream",
     "text": [
      "<__main__.Car object at 0x7f5b0d53d0f0>\n"
     ]
    }
   ],
   "source": [
    "class Car:\n",
    "  brand = None\n",
    "  model = None\n",
    "\n",
    "my_car = Car()\n",
    "print(my_car)"
   ]
  },
  {
   "cell_type": "code",
   "execution_count": null,
   "metadata": {
    "colab": {
     "base_uri": "https://localhost:8080/"
    },
    "id": "3C_ewGJ4xvDM",
    "outputId": "14580720-409d-46c3-eb0a-cdcfccecb812"
   },
   "outputs": [
    {
     "name": "stdout",
     "output_type": "stream",
     "text": [
      "<__main__.Car object at 0x7f5b0e18b2b0>\n",
      "Toyota\n",
      "Corolla\n",
      "Tata\n",
      "Safari\n"
     ]
    }
   ],
   "source": [
    "class Car:\n",
    "  def __init__(self, brand,model):\n",
    "    self.brand = brand\n",
    "    self.model = model\n",
    "\n",
    "my_car = Car(\"Toyota\",\"Corolla\")\n",
    "print(my_car)\n",
    "print(my_car.brand)\n",
    "print(my_car.model)\n",
    "\n",
    "my_new_car = Car(\"Tata\",\"Safari\")\n",
    "print(my_new_car.brand)\n",
    "print(my_new_car.model)"
   ]
  },
  {
   "cell_type": "markdown",
   "metadata": {
    "id": "E2a0bkAZaQ8k"
   },
   "source": [
    "<details>\n",
    "<summary>\n",
    "2. Class Method and Self\n",
    "</summary>\n",
    "Problem: Add a method to the Car class that displays the full name of the car (brand and model).\n",
    "</details>"
   ]
  },
  {
   "cell_type": "code",
   "execution_count": null,
   "metadata": {
    "colab": {
     "base_uri": "https://localhost:8080/"
    },
    "id": "4ALj3ufnySYc",
    "outputId": "ffc98b4d-9593-4862-c0b7-1f3bf200b066"
   },
   "outputs": [
    {
     "name": "stdout",
     "output_type": "stream",
     "text": [
      "<__main__.Car object at 0x7a487cf42470>\n",
      "Toyota\n",
      "Corolla\n",
      "Toyota Corolla\n"
     ]
    }
   ],
   "source": [
    "class Car:\n",
    "  def __init__(self, brand,model):\n",
    "    self.brand = brand\n",
    "    self.model = model\n",
    "\n",
    "  def full_name(self):\n",
    "    return f\"{self.brand} {self.model}\"\n",
    "\n",
    "my_car = Car(\"Toyota\",\"Corolla\")\n",
    "print(my_car)\n",
    "print(my_car.brand)\n",
    "print(my_car.model)\n",
    "print(my_car.full_name())"
   ]
  },
  {
   "cell_type": "markdown",
   "metadata": {
    "id": "LwstHUtvbETf"
   },
   "source": [
    "<details>\n",
    "<summary>\n",
    "3. Inheritance\n",
    "</summary>\n",
    "Problem: Create an ElectricCar class that inherits from the Car class and has an additional attribute battery_size.\n",
    "</details>"
   ]
  },
  {
   "cell_type": "code",
   "execution_count": null,
   "metadata": {
    "colab": {
     "base_uri": "https://localhost:8080/"
    },
    "id": "RLtOInJja36N",
    "outputId": "10f70b91-13d0-4063-d50b-d97ad7128634"
   },
   "outputs": [
    {
     "name": "stdout",
     "output_type": "stream",
     "text": [
      "Tesla\n",
      "Tesla Model S\n"
     ]
    }
   ],
   "source": [
    "class Car:\n",
    "  def __init__(self, brand,model):\n",
    "    self.brand = brand\n",
    "    self.model = model\n",
    "\n",
    "  def full_name(self):\n",
    "    return f\"{self.brand} {self.model}\"\n",
    "\n",
    "class ElectricCar(Car):\n",
    "  def __init__(self,brand,model,battery_size):\n",
    "    super().__init__(brand,model)\n",
    "    self.battery_size = battery_size\n",
    "\n",
    "my_tesla = ElectricCar(\"Tesla\",\"Model S\",\"85Kwh\")\n",
    "print(my_tesla.brand)\n",
    "print(my_tesla.full_name())"
   ]
  },
  {
   "cell_type": "markdown",
   "metadata": {
    "id": "NBScIrXAf9bk"
   },
   "source": [
    "<details>\n",
    "<summary>\n",
    "4. Encapsulation\n",
    "</summary>\n",
    "Problem: Modify the Car class to encapsulate the brand attribute, making it private, and provide a getter method for it.\n",
    "</details>"
   ]
  },
  {
   "cell_type": "code",
   "execution_count": null,
   "metadata": {
    "colab": {
     "base_uri": "https://localhost:8080/"
    },
    "id": "dRHx698rcYPr",
    "outputId": "7fedfc0e-f191-4bb5-eb5f-0271604c05c5"
   },
   "outputs": [
    {
     "name": "stdout",
     "output_type": "stream",
     "text": [
      "Tesla\n"
     ]
    }
   ],
   "source": [
    "class Car:\n",
    "  def __init__(self, brand,model):\n",
    "    self.__brand = brand\n",
    "    self.model = model\n",
    "\n",
    "  def get_brand(self):\n",
    "    return self.__brand\n",
    "\n",
    "  def full_name(self):\n",
    "    return f\"{self.__brand} {self.model}\"\n",
    "\n",
    "class ElectricCar(Car):\n",
    "  def __init__(self,brand,model,battery_size):\n",
    "    super().__init__(brand,model)\n",
    "    self.battery_size = battery_size\n",
    "\n",
    "my_tesla = ElectricCar(\"Tesla\",\"Model S\",\"85Kwh\")\n",
    "\n",
    "print(my_tesla.get_brand())\n",
    "# print(my_tesla.__brand)\n"
   ]
  },
  {
   "cell_type": "markdown",
   "metadata": {
    "id": "0hLbhPR4h-Pz"
   },
   "source": [
    "<details>\n",
    "<summary>\n",
    "5. Polymorphism\n",
    "</summary>\n",
    "Problem: Demonstrate polymorphism by defining a method fuel_type in both Car and ElectricCar classes, but with different behaviors.\n",
    "</details>"
   ]
  },
  {
   "cell_type": "code",
   "execution_count": null,
   "metadata": {
    "colab": {
     "base_uri": "https://localhost:8080/"
    },
    "id": "B13LYlf4gy5-",
    "outputId": "5ba59bca-3cba-4713-c453-58d7604f25ea"
   },
   "outputs": [
    {
     "name": "stdout",
     "output_type": "stream",
     "text": [
      "Petrol or Diesel\n",
      "Electric Charge\n"
     ]
    }
   ],
   "source": [
    "class Car:\n",
    "  def __init__(self, brand,model):\n",
    "    self.__brand = brand\n",
    "    self.model = model\n",
    "\n",
    "  def get_brand(self):\n",
    "    return self.__brand\n",
    "\n",
    "  def full_name(self):\n",
    "    return f\"{self.__brand} {self.model}\"\n",
    "\n",
    "  def fuel_type(self):\n",
    "    return \"Petrol or Diesel\"\n",
    "\n",
    "class ElectricCar(Car):\n",
    "  def __init__(self,brand,model,battery_size):\n",
    "    super().__init__(brand,model)\n",
    "    self.battery_size = battery_size\n",
    "\n",
    "  def fuel_type(self):\n",
    "    return \"Electric Charge\"\n",
    "\n",
    "my_tesla = ElectricCar(\"Tesla\",\"Model S\",\"85Kwh\")\n",
    "safari = Car(\"Tata\",\"Safari\")\n",
    "\n",
    "print(safari.fuel_type())\n",
    "print(my_tesla.fuel_type())"
   ]
  },
  {
   "cell_type": "markdown",
   "metadata": {
    "id": "kt8eP_6Aj48W"
   },
   "source": [
    "<details>\n",
    "<summary>\n",
    "6. Class Variables\n",
    "</summary>\n",
    "Problem: Add a class variable to Car that keeps track of the number of cars created.\n",
    "</details>"
   ]
  },
  {
   "cell_type": "code",
   "execution_count": null,
   "metadata": {
    "colab": {
     "base_uri": "https://localhost:8080/"
    },
    "id": "58PF4svEjqWI",
    "outputId": "105521f5-b306-4abb-852d-53ec920163c2"
   },
   "outputs": [
    {
     "name": "stdout",
     "output_type": "stream",
     "text": [
      "Petrol or Diesel\n",
      "Electric Charge\n",
      "2\n"
     ]
    }
   ],
   "source": [
    "class Car:\n",
    "  total_car = 0\n",
    "  def __init__(self, brand,model):\n",
    "    self.__brand = brand\n",
    "    self.model = model\n",
    "    Car.total_car+=1\n",
    "    #self.total_car+=1\n",
    "\n",
    "  def get_brand(self):\n",
    "    return self.__brand\n",
    "\n",
    "  def full_name(self):\n",
    "    return f\"{self.__brand} {self.model}\"\n",
    "\n",
    "  def fuel_type(self):\n",
    "    return \"Petrol or Diesel\"\n",
    "\n",
    "class ElectricCar(Car):\n",
    "  def __init__(self,brand,model,battery_size):\n",
    "    super().__init__(brand,model)\n",
    "    self.battery_size = battery_size\n",
    "\n",
    "  def fuel_type(self):\n",
    "    return \"Electric Charge\"\n",
    "\n",
    "my_tesla = ElectricCar(\"Tesla\",\"Model S\",\"85Kwh\")\n",
    "safari = Car(\"Tata\",\"Safari\")\n",
    "\n",
    "print(safari.fuel_type())\n",
    "print(my_tesla.fuel_type())\n",
    "print(Car.total_car)"
   ]
  },
  {
   "cell_type": "markdown",
   "metadata": {
    "id": "72N0HJFZk_9d"
   },
   "source": [
    "<details>\n",
    "<summary>\n",
    "7. Static Method\n",
    "</summary>\n",
    "Problem: Add a static method to the Car class that returns a general description of a car.\n",
    "</details>"
   ]
  },
  {
   "cell_type": "code",
   "execution_count": null,
   "metadata": {
    "colab": {
     "base_uri": "https://localhost:8080/"
    },
    "id": "-V2t_bpSkgd2",
    "outputId": "44d08f6d-30e9-4291-d6c5-ce97313bfa28"
   },
   "outputs": [
    {
     "name": "stdout",
     "output_type": "stream",
     "text": [
      "Cars are means of transport\n"
     ]
    }
   ],
   "source": [
    "class Car:\n",
    "  total_car = 0\n",
    "  def __init__(self, brand,model):\n",
    "    self.__brand = brand\n",
    "    self.model = model\n",
    "    Car.total_car+=1\n",
    "    #self.total_car+=1\n",
    "\n",
    "  def get_brand(self):\n",
    "    return self.__brand\n",
    "\n",
    "  def full_name(self):\n",
    "    return f\"{self.__brand} {self.model}\"\n",
    "\n",
    "  def fuel_type(self):\n",
    "    return \"Petrol or Diesel\"\n",
    "\n",
    "  @staticmethod\n",
    "  def gen_desc():\n",
    "    return \"Cars are means of transport\"\n",
    "\n",
    "class ElectricCar(Car):\n",
    "  def __init__(self,brand,model,battery_size):\n",
    "    super().__init__(brand,model)\n",
    "    self.battery_size = battery_size\n",
    "\n",
    "  def fuel_type(self):\n",
    "    return \"Electric Charge\"\n",
    "\n",
    "my_tesla = ElectricCar(\"Tesla\",\"Model S\",\"85Kwh\")\n",
    "safari = Car(\"Tata\",\"Safari\")\n",
    "\n",
    "print(Car.gen_desc())"
   ]
  },
  {
   "cell_type": "markdown",
   "metadata": {
    "id": "JwRa4YtNmvLw"
   },
   "source": [
    "<details>\n",
    "<summary>\n",
    "8. Property Decorators\n",
    "</summary>\n",
    "Problem: Use a property decorator in the Car class to make the model attribute read-only.\n",
    "</details>"
   ]
  },
  {
   "cell_type": "code",
   "execution_count": null,
   "metadata": {
    "colab": {
     "base_uri": "https://localhost:8080/"
    },
    "id": "a70tywxomtHK",
    "outputId": "3ae12bda-383d-4931-8708-88b661e2e55b"
   },
   "outputs": [
    {
     "name": "stdout",
     "output_type": "stream",
     "text": [
      "Safari\n"
     ]
    }
   ],
   "source": [
    "class Car:\n",
    "  total_car = 0\n",
    "  def __init__(self, brand,model):\n",
    "    self.__brand = brand\n",
    "    self.__model = model\n",
    "    Car.total_car+=1\n",
    "    #self.total_car+=1\n",
    "\n",
    "  def get_brand(self):\n",
    "    return self.__brand\n",
    "\n",
    "  def full_name(self):\n",
    "    return f\"{self.__brand} {self.__model}\"\n",
    "\n",
    "  def fuel_type(self):\n",
    "    return \"Petrol or Diesel\"\n",
    "\n",
    "  @staticmethod\n",
    "  def gen_desc():\n",
    "    return \"Cars are means of transport\"\n",
    "\n",
    "  @property\n",
    "  def model(self):\n",
    "    return self.__model\n",
    "\n",
    "class ElectricCar(Car):\n",
    "  def __init__(self,brand,model,battery_size):\n",
    "    super().__init__(brand,model)\n",
    "    self.battery_size = battery_size\n",
    "\n",
    "  def fuel_type(self):\n",
    "    return \"Electric Charge\"\n",
    "\n",
    "my_tesla = ElectricCar(\"Tesla\",\"Model S\",\"85Kwh\")\n",
    "safari = Car(\"Tata\",\"Safari\")\n",
    "# safari.model = \"city\"\n",
    "print(safari.model)"
   ]
  },
  {
   "cell_type": "markdown",
   "metadata": {
    "id": "T6gMNq3xo1oN"
   },
   "source": [
    "<details>\n",
    "<summary>\n",
    "9. Class Inheritance and isinstance() Function\n",
    "</summary>\n",
    "Problem: Demonstrate the use of isinstance() to check if my_tesla is an instance of Car and ElectricCar.\n",
    "</details>"
   ]
  },
  {
   "cell_type": "code",
   "execution_count": null,
   "metadata": {
    "colab": {
     "base_uri": "https://localhost:8080/"
    },
    "id": "Nclk8g1Ro8af",
    "outputId": "fdefcfab-7c02-4ae1-9f0b-eab023e77904"
   },
   "outputs": [
    {
     "name": "stdout",
     "output_type": "stream",
     "text": [
      "True\n",
      "True\n"
     ]
    }
   ],
   "source": [
    "class Car:\n",
    "  total_car = 0\n",
    "  def __init__(self, brand,model):\n",
    "    self.__brand = brand\n",
    "    self.__model = model\n",
    "    Car.total_car+=1\n",
    "    #self.total_car+=1\n",
    "\n",
    "  def get_brand(self):\n",
    "    return self.__brand\n",
    "\n",
    "  def full_name(self):\n",
    "    return f\"{self.__brand} {self.__model}\"\n",
    "\n",
    "  def fuel_type(self):\n",
    "    return \"Petrol or Diesel\"\n",
    "\n",
    "  @staticmethod\n",
    "  def gen_desc():\n",
    "    return \"Cars are means of transport\"\n",
    "\n",
    "  @property\n",
    "  def model(self):\n",
    "    return self.__model\n",
    "\n",
    "class ElectricCar(Car):\n",
    "  def __init__(self,brand,model,battery_size):\n",
    "    super().__init__(brand,model)\n",
    "    self.battery_size = battery_size\n",
    "\n",
    "  def fuel_type(self):\n",
    "    return \"Electric Charge\"\n",
    "\n",
    "my_tesla = ElectricCar(\"Tesla\",\"Model S\",\"85Kwh\")\n",
    "print(isinstance(my_tesla, Car))\n",
    "print(isinstance(my_tesla, ElectricCar))"
   ]
  },
  {
   "cell_type": "markdown",
   "metadata": {
    "id": "2-iladCJo8xY"
   },
   "source": [
    "<details>\n",
    "<summary>\n",
    "10. Multiple Inheritance\n",
    "</summary>\n",
    "Problem: Create two classes Battery and Engine, and let the ElectricCar class inherit from both, demonstrating multiple inheritance.\n",
    "</details>"
   ]
  },
  {
   "cell_type": "code",
   "execution_count": null,
   "metadata": {
    "id": "iaj_8nvzm7m3"
   },
   "outputs": [],
   "source": [
    "class Car:\n",
    "    total_car = 0\n",
    "\n",
    "    def __init__(self, brand, model):\n",
    "        self.__brand = brand\n",
    "        self.__model = model\n",
    "        Car.total_car += 1\n",
    "\n",
    "    def get_brand(self):\n",
    "        return self.__brand + \" !\"\n",
    "\n",
    "    def full_name(self):\n",
    "        return f\"{self.__brand} {self.__model}\"\n",
    "\n",
    "    def fuel_type(self):\n",
    "        return \"Petrol or Diesel\"\n",
    "\n",
    "    @staticmethod\n",
    "    def general_description():\n",
    "        return \"Cars are means of transport\"\n",
    "\n",
    "    @property\n",
    "    def model(self):\n",
    "        return self.__model\n",
    "\n",
    "\n",
    "\n",
    "class ElectricCar(Car):\n",
    "    def __init__(self, brand, model, battery_size):\n",
    "        super().__init__(brand, model)\n",
    "        self.battery_size = battery_size\n",
    "\n",
    "    def fuel_type():\n",
    "        return \"Electric charge\"\n",
    "\n",
    "\n",
    "# my_tesla = ElectricCar(\"Tesla\", \"Model S\", \"85kWh\")\n",
    "\n",
    "# print(isinstance(my_tesla, Car))\n",
    "# print(isinstance(my_tesla, ElectricCar))\n",
    "\n",
    "# print(my_tesla.__brand)\n",
    "# print(my_tesla.fuel_type())\n",
    "\n",
    "# my_car = Car(\"Tata\", \"Safari\")\n",
    "# my_car.model = \"City\"\n",
    "# Car(\"Tata\", \"Nexon\")\n",
    "\n",
    "\n",
    "# print(my_car.general_description())\n",
    "# print(my_car.model)\n",
    "\n",
    "\n",
    "# my_car = Car(\"Toyota\", \"Corolla\")\n",
    "# print(my_car.brand)\n",
    "# print(my_car.model)\n",
    "# print(my_car.full_name())\n",
    "\n",
    "# my_new_car = Car(\"Tata\", \"Safari\")\n",
    "# print(my_new_car.model)\n",
    "\n",
    "\n",
    "\n",
    "class Battery:\n",
    "    def battery_info(self):\n",
    "        return \"this is battery\"\n",
    "\n",
    "class Engine:\n",
    "    def engine_info(self):\n",
    "        return \"This is engine\"\n",
    "\n",
    "class ElectricCarTwo(Battery, Engine, Car):\n",
    "    pass\n",
    "\n",
    "my_new_tesla = ElectricCarTwo(\"Tesla\", \"Model S\")\n",
    "print(my_new_tesla.engine_info())\n",
    "print(my_new_tesla.battery_info())"
   ]
  }
 ],
 "metadata": {
  "colab": {
   "provenance": []
  },
  "kernelspec": {
   "display_name": "Python 3 (ipykernel)",
   "language": "python",
   "name": "python3"
  },
  "language_info": {
   "codemirror_mode": {
    "name": "ipython",
    "version": 3
   },
   "file_extension": ".py",
   "mimetype": "text/x-python",
   "name": "python",
   "nbconvert_exporter": "python",
   "pygments_lexer": "ipython3",
   "version": "3.10.4"
  }
 },
 "nbformat": 4,
 "nbformat_minor": 4
}
