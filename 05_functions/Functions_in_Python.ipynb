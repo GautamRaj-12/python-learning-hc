{
  "nbformat": 4,
  "nbformat_minor": 0,
  "metadata": {
    "colab": {
      "provenance": []
    },
    "kernelspec": {
      "name": "python3",
      "display_name": "Python 3"
    },
    "language_info": {
      "name": "python"
    }
  },
  "cells": [
    {
      "cell_type": "markdown",
      "source": [
        "# Functions in Python - Learn by Solving 10 problems"
      ],
      "metadata": {
        "id": "9VFCdiTBazKR"
      }
    },
    {
      "cell_type": "markdown",
      "source": [
        "## 10 Problems\n",
        "\n",
        "<details>\n",
        "<summary>\n",
        "1. Basic Function Syntax\n",
        "</summary>\n",
        "Problem: Write a function to calculate and return the square of a number.\n",
        "</details>\n",
        "\n",
        "\n",
        "<details>\n",
        "<summary>\n",
        "2. Function with Multiple Parameters\n",
        "</summary>\n",
        "Problem: Create a function that takes two numbers as parameters and returns their sum.\n",
        "</details>\n",
        "\n",
        "\n",
        "<details>\n",
        "<summary>\n",
        "3. Polymorphism in Functions\n",
        "</summary>\n",
        "Problem: Write a function multiply that multiplies two numbers, but can also accept and multiply strings.\n",
        "</details>\n",
        "\n",
        "\n",
        "<details>\n",
        "<summary>\n",
        "4. Function Returning Multiple Values\n",
        "</summary>\n",
        "Problem: Create a function that returns both the area and circumference of a circle given its radius.\n",
        "</details>\n",
        "\n",
        "\n",
        "<details>\n",
        "<summary>\n",
        "5. Default Parameter Value\n",
        "</summary>\n",
        "Problem: Write a function that greets a user. If no name is provided, it should greet with a default name.\n",
        "</details>\n",
        "\n",
        "\n",
        "<details>\n",
        "<summary>\n",
        "6. Lambda Function\n",
        "</summary>\n",
        "Problem: Create a lambda function to compute the cube of a number.\n",
        "</details>\n",
        "\n",
        "\n",
        "<details>\n",
        "<summary>\n",
        "7. Function with *args\n",
        "</summary>\n",
        "Problem: Write a function that takes variable number of arguments and returns their sum.\n",
        "</details>\n",
        "\n",
        "\n",
        "<details>\n",
        "<summary>\n",
        "8. Function with **kwargs\n",
        "</summary>\n",
        "Problem: Create a function that accepts any number of keyword arguments and prints them in the format key: value.\n",
        "</details>\n",
        "\n",
        "\n",
        "<details>\n",
        "<summary>\n",
        "9. Generator Function with yield\n",
        "</summary>\n",
        "Problem: Write a generator function that yields even numbers up to a specified limit.\n",
        "</details>\n",
        "\n",
        "\n",
        "<details>\n",
        "<summary>\n",
        "10. Recursive Function\n",
        "</summary>\n",
        "Problem: Create a recursive function to calculate the factorial of a number.\n",
        "</details>"
      ],
      "metadata": {
        "id": "HYcswSbua73v"
      }
    },
    {
      "cell_type": "markdown",
      "source": [
        "<details>\n",
        "<summary>\n",
        "1. Basic Function Syntax\n",
        "</summary>\n",
        "Problem: Write a function to calculate and return the square of a number.\n",
        "</details>"
      ],
      "metadata": {
        "id": "pCOq5sbYbRzp"
      }
    },
    {
      "cell_type": "code",
      "source": [
        "def square_of_num(number):\n",
        "  return number ** 2\n",
        "\n",
        "result=square_of_num(5)\n",
        "print(result)"
      ],
      "metadata": {
        "colab": {
          "base_uri": "https://localhost:8080/"
        },
        "id": "saEPZqGebAiM",
        "outputId": "8ed6a2db-5341-4bb2-c222-4ca8b62ee16b"
      },
      "execution_count": null,
      "outputs": [
        {
          "output_type": "stream",
          "name": "stdout",
          "text": [
            "25\n"
          ]
        }
      ]
    },
    {
      "cell_type": "markdown",
      "source": [
        "<details>\n",
        "<summary>\n",
        "2. Function with Multiple Parameters\n",
        "</summary>\n",
        "Problem: Create a function that takes two numbers as parameters and returns their sum.\n",
        "</details>\n"
      ],
      "metadata": {
        "id": "N7l8vk-nbT79"
      }
    },
    {
      "cell_type": "code",
      "source": [
        "def sum_of_two(a,b):\n",
        "  return a+b\n",
        "\n",
        "print(sum_of_two(5,6))"
      ],
      "metadata": {
        "colab": {
          "base_uri": "https://localhost:8080/"
        },
        "id": "zWhbmBa0c5_U",
        "outputId": "cd3ecff9-576a-4cf2-9dd8-f9aa7a713894"
      },
      "execution_count": null,
      "outputs": [
        {
          "output_type": "stream",
          "name": "stdout",
          "text": [
            "11\n"
          ]
        }
      ]
    },
    {
      "cell_type": "markdown",
      "source": [
        "<details>\n",
        "<summary>\n",
        "3. Polymorphism in Functions\n",
        "</summary>\n",
        "Problem: Write a function multiply that multiplies two numbers, but can also accept and multiply strings.\n",
        "</details>"
      ],
      "metadata": {
        "id": "JbrU8WxlbWqG"
      }
    },
    {
      "cell_type": "code",
      "source": [
        "def multiply(pOne,pTwo):\n",
        "  return pOne*pTwo\n",
        "\n",
        "print(multiply(5,5))\n",
        "print(multiply(5,\"a\"))\n",
        "print(multiply(\"a\",5))\n",
        "# print(multiply(\"a\",\"5\")) //error - TypeError: can't multiply sequence by non-int of type 'str'"
      ],
      "metadata": {
        "colab": {
          "base_uri": "https://localhost:8080/"
        },
        "id": "t-euQvnOiV6O",
        "outputId": "6df3cfa9-4fb0-4094-ed72-036b4abfdd38"
      },
      "execution_count": null,
      "outputs": [
        {
          "output_type": "stream",
          "name": "stdout",
          "text": [
            "25\n",
            "aaaaa\n",
            "aaaaa\n"
          ]
        }
      ]
    },
    {
      "cell_type": "markdown",
      "source": [
        "<details>\n",
        "<summary>\n",
        "4. Function Returning Multiple Values\n",
        "</summary>\n",
        "Problem: Create a function that returns both the area and circumference of a circle given its radius.\n",
        "</details>"
      ],
      "metadata": {
        "id": "aruOiwt3bZDP"
      }
    },
    {
      "cell_type": "code",
      "source": [
        "import math\n",
        "def circle_calc(r):\n",
        "  circumference = round(2*math.pi*r,2)\n",
        "  area = round(math.pi*r*r,2)\n",
        "  return area,circumference\n",
        "\n",
        "a,c=circle_calc(7)\n",
        "\n",
        "print(\"Area: \",a, \"Circumference: \",c)"
      ],
      "metadata": {
        "colab": {
          "base_uri": "https://localhost:8080/"
        },
        "id": "0LIAAtFbi5im",
        "outputId": "9a427b8f-d8fa-4bba-abd4-098d74a082b2"
      },
      "execution_count": null,
      "outputs": [
        {
          "output_type": "stream",
          "name": "stdout",
          "text": [
            "Area:  153.94 Circumference:  43.98\n"
          ]
        }
      ]
    },
    {
      "cell_type": "markdown",
      "source": [
        "<details>\n",
        "<summary>\n",
        "5. Default Parameter Value\n",
        "</summary>\n",
        "Problem: Write a function that greets a user. If no name is provided, it should greet with a default name.\n",
        "</details>"
      ],
      "metadata": {
        "id": "7Ujj_Yk6ba2t"
      }
    },
    {
      "cell_type": "code",
      "source": [
        "def greet(name=\"User\"):\n",
        "  return \"Hello, \"+name+\" \"\n",
        "\n",
        "print(greet(\"Gautam\"))\n",
        "print(greet())"
      ],
      "metadata": {
        "colab": {
          "base_uri": "https://localhost:8080/"
        },
        "id": "r9Nnpo8HkDpI",
        "outputId": "d875879d-3d3f-491c-d8e3-79feaaff4e02"
      },
      "execution_count": null,
      "outputs": [
        {
          "output_type": "stream",
          "name": "stdout",
          "text": [
            "Hello, Gautam \n",
            "Hello, User \n"
          ]
        }
      ]
    },
    {
      "cell_type": "markdown",
      "source": [
        "<details>\n",
        "<summary>\n",
        "6. Lambda Function\n",
        "</summary>\n",
        "Problem: Create a lambda function to compute the cube of a number.\n",
        "</details>"
      ],
      "metadata": {
        "id": "er_ORbMQbcSf"
      }
    },
    {
      "cell_type": "code",
      "source": [
        "cube = lambda x: x ** 3\n",
        "print(cube(3))"
      ],
      "metadata": {
        "colab": {
          "base_uri": "https://localhost:8080/"
        },
        "id": "RddDmF3akYwr",
        "outputId": "e29d6c45-fb5e-4905-c63e-607abf536b3f"
      },
      "execution_count": null,
      "outputs": [
        {
          "output_type": "stream",
          "name": "stdout",
          "text": [
            "27\n"
          ]
        }
      ]
    },
    {
      "cell_type": "markdown",
      "source": [
        "<details>\n",
        "<summary>\n",
        "7. Function with *args\n",
        "</summary>\n",
        "Problem: Write a function that takes variable number of arguments and returns their sum.\n",
        "</details>\n"
      ],
      "metadata": {
        "id": "9iFXzIcTbdu1"
      }
    },
    {
      "cell_type": "code",
      "source": [
        "def sum_all(*args):\n",
        "  return sum(args) # using sum function\n",
        "\n",
        "print(sum_all(1,2))\n",
        "print(sum_all(1,2,3))\n",
        "print(sum_all(1,2,3,4,5))"
      ],
      "metadata": {
        "colab": {
          "base_uri": "https://localhost:8080/"
        },
        "id": "K7T1cFB-mgZo",
        "outputId": "4f0aeb65-0acd-4a40-a62d-a853abaa663e"
      },
      "execution_count": null,
      "outputs": [
        {
          "output_type": "stream",
          "name": "stdout",
          "text": [
            "3\n",
            "6\n",
            "15\n"
          ]
        }
      ]
    },
    {
      "cell_type": "code",
      "source": [
        "def sum_all(*args):\n",
        "  print(*args)\n",
        "  print(args) #tuple - which is iterable\n",
        "  sum = 0\n",
        "  for i in args: # don't use *args here\n",
        "    sum = sum+i\n",
        "  return sum\n",
        "\n",
        "print(sum_all(1,2))\n",
        "print(sum_all(1,2,3))\n",
        "print(sum_all(1,2,3,4,5))"
      ],
      "metadata": {
        "colab": {
          "base_uri": "https://localhost:8080/"
        },
        "id": "Clz1FMyUmiIA",
        "outputId": "fdc23246-7e16-4932-ff33-74798d18275c"
      },
      "execution_count": null,
      "outputs": [
        {
          "output_type": "stream",
          "name": "stdout",
          "text": [
            "1 2\n",
            "(1, 2)\n",
            "3\n",
            "1 2 3\n",
            "(1, 2, 3)\n",
            "6\n",
            "1 2 3 4 5\n",
            "(1, 2, 3, 4, 5)\n",
            "15\n"
          ]
        }
      ]
    },
    {
      "cell_type": "markdown",
      "source": [
        "<details>\n",
        "<summary>\n",
        "8. Function with **kwargs\n",
        "</summary>\n",
        "Problem: Create a function that accepts any number of keyword arguments and prints them in the format key: value.\n",
        "</details>"
      ],
      "metadata": {
        "id": "4V1dEymtbfKH"
      }
    },
    {
      "cell_type": "code",
      "source": [
        "def print_kwargs(**kwargs):\n",
        "    for key, value in kwargs.items():\n",
        "        print(f\"{key}: {value}\")\n",
        "\n",
        "\n",
        "print_kwargs(name=\"shaktiman\", power=\"lazer\")\n",
        "print_kwargs(name=\"shaktiman\")\n",
        "print_kwargs(name=\"shaktiman\", power=\"lazer\", enemy = \"Dr. Jackaal\")"
      ],
      "metadata": {
        "colab": {
          "base_uri": "https://localhost:8080/"
        },
        "id": "1FNYYKFzle_t",
        "outputId": "5ebbe6d2-4255-4543-ed50-33efc283e607"
      },
      "execution_count": null,
      "outputs": [
        {
          "output_type": "stream",
          "name": "stdout",
          "text": [
            "name: shaktiman\n",
            "power: lazer\n",
            "name: shaktiman\n",
            "name: shaktiman\n",
            "power: lazer\n",
            "enemy: Dr. Jackaal\n"
          ]
        }
      ]
    },
    {
      "cell_type": "markdown",
      "source": [
        "<details>\n",
        "<summary>\n",
        "9. Generator Function with yield\n",
        "</summary>\n",
        "Problem: Write a generator function that yields even numbers up to a specified limit.\n",
        "</details>\n"
      ],
      "metadata": {
        "id": "awClsHyebgma"
      }
    },
    {
      "cell_type": "code",
      "source": [
        "def even_generator(limit):\n",
        "    for i in range(2, limit + 1, 2):\n",
        "        yield i\n",
        "\n",
        "\n",
        "\n",
        "for num in even_generator(10):\n",
        "    print(num)"
      ],
      "metadata": {
        "colab": {
          "base_uri": "https://localhost:8080/"
        },
        "id": "tBloF2JBn_Sx",
        "outputId": "2efc4f64-0c1f-4348-8f18-8634aa130c02"
      },
      "execution_count": null,
      "outputs": [
        {
          "output_type": "stream",
          "name": "stdout",
          "text": [
            "2\n",
            "4\n",
            "6\n",
            "8\n",
            "10\n"
          ]
        }
      ]
    },
    {
      "cell_type": "markdown",
      "source": [
        "<details>\n",
        "<summary>\n",
        "10. Recursive Function\n",
        "</summary>\n",
        "Problem: Create a recursive function to calculate the factorial of a number.\n",
        "</details>"
      ],
      "metadata": {
        "id": "ITZdsktFbiSH"
      }
    },
    {
      "cell_type": "code",
      "source": [
        "def factorial(n):\n",
        "    if n == 0:\n",
        "        return 1\n",
        "    else:\n",
        "        return n * factorial(n - 1)\n",
        "\n",
        "print(factorial(5))"
      ],
      "metadata": {
        "colab": {
          "base_uri": "https://localhost:8080/"
        },
        "id": "ZCKrvZMQoDvh",
        "outputId": "c4c21a52-dc75-4454-f425-b4c841197839"
      },
      "execution_count": null,
      "outputs": [
        {
          "output_type": "stream",
          "name": "stdout",
          "text": [
            "120\n"
          ]
        }
      ]
    }
  ]
}